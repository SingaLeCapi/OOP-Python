{
  "cells": [
    {
      "cell_type": "markdown",
      "metadata": {
        "id": "view-in-github",
        "colab_type": "text"
      },
      "source": [
        "<a href=\"https://colab.research.google.com/github/SingaLeCapi/learning_pyspark/blob/main/Spark_Learning.ipynb\" target=\"_parent\"><img src=\"https://colab.research.google.com/assets/colab-badge.svg\" alt=\"Open In Colab\"/></a>"
      ]
    },
    {
      "cell_type": "code",
      "execution_count": 2,
      "metadata": {
        "colab": {
          "base_uri": "https://localhost:8080/"
        },
        "id": "43hLBc7bvKVr",
        "outputId": "2a554116-8031-4459-c006-84de0b0850b6"
      },
      "outputs": [
        {
          "output_type": "stream",
          "name": "stdout",
          "text": [
            "Collecting pyspark\n",
            "  Downloading pyspark-3.5.3.tar.gz (317.3 MB)\n",
            "\u001b[2K     \u001b[90m━━━━━━━━━━━━━━━━━━━━━━━━━━━━━━━━━━━━━━━━\u001b[0m \u001b[32m317.3/317.3 MB\u001b[0m \u001b[31m4.0 MB/s\u001b[0m eta \u001b[36m0:00:00\u001b[0m\n",
            "\u001b[?25h  Preparing metadata (setup.py) ... \u001b[?25l\u001b[?25hdone\n",
            "Requirement already satisfied: py4j==0.10.9.7 in /usr/local/lib/python3.10/dist-packages (from pyspark) (0.10.9.7)\n",
            "Building wheels for collected packages: pyspark\n",
            "  Building wheel for pyspark (setup.py) ... \u001b[?25l\u001b[?25hdone\n",
            "  Created wheel for pyspark: filename=pyspark-3.5.3-py2.py3-none-any.whl size=317840625 sha256=5b8aaddfa22aebbb68cd91e73a510027d0593051f54a539bf6ab0adfa2098f4c\n",
            "  Stored in directory: /root/.cache/pip/wheels/1b/3a/92/28b93e2fbfdbb07509ca4d6f50c5e407f48dce4ddbda69a4ab\n",
            "Successfully built pyspark\n",
            "Installing collected packages: pyspark\n",
            "Successfully installed pyspark-3.5.3\n"
          ]
        }
      ],
      "source": [
        "!pip install pyspark"
      ]
    },
    {
      "cell_type": "code",
      "execution_count": 3,
      "metadata": {
        "colab": {
          "base_uri": "https://localhost:8080/",
          "height": 221
        },
        "id": "0oy5H4nYvtjM",
        "outputId": "b32e44e8-1041-4b90-869a-ea80c9972728"
      },
      "outputs": [
        {
          "output_type": "execute_result",
          "data": {
            "text/plain": [
              "<pyspark.sql.session.SparkSession at 0x7e71408b21d0>"
            ],
            "text/html": [
              "\n",
              "            <div>\n",
              "                <p><b>SparkSession - in-memory</b></p>\n",
              "                \n",
              "        <div>\n",
              "            <p><b>SparkContext</b></p>\n",
              "\n",
              "            <p><a href=\"http://1dd6c1b74a5a:4040\">Spark UI</a></p>\n",
              "\n",
              "            <dl>\n",
              "              <dt>Version</dt>\n",
              "                <dd><code>v3.5.3</code></dd>\n",
              "              <dt>Master</dt>\n",
              "                <dd><code>local[*]</code></dd>\n",
              "              <dt>AppName</dt>\n",
              "                <dd><code>pyspark-shell</code></dd>\n",
              "            </dl>\n",
              "        </div>\n",
              "        \n",
              "            </div>\n",
              "        "
            ]
          },
          "metadata": {},
          "execution_count": 3
        }
      ],
      "source": [
        "from pyspark.sql import SparkSession\n",
        "spark = SparkSession.builder.master(\"local[*]\").getOrCreate()\n",
        "\n",
        "spark"
      ]
    },
    {
      "cell_type": "code",
      "execution_count": 4,
      "metadata": {
        "colab": {
          "base_uri": "https://localhost:8080/",
          "height": 74
        },
        "id": "PCwGqCtkxtTc",
        "outputId": "103c43e2-3457-44ef-f396-4169ed493694"
      },
      "outputs": [
        {
          "output_type": "display_data",
          "data": {
            "text/plain": [
              "<IPython.core.display.HTML object>"
            ],
            "text/html": [
              "\n",
              "     <input type=\"file\" id=\"files-ea253dac-55ab-451e-8b79-5ec091a849c0\" name=\"files[]\" multiple disabled\n",
              "        style=\"border:none\" />\n",
              "     <output id=\"result-ea253dac-55ab-451e-8b79-5ec091a849c0\">\n",
              "      Upload widget is only available when the cell has been executed in the\n",
              "      current browser session. Please rerun this cell to enable.\n",
              "      </output>\n",
              "      <script>// Copyright 2017 Google LLC\n",
              "//\n",
              "// Licensed under the Apache License, Version 2.0 (the \"License\");\n",
              "// you may not use this file except in compliance with the License.\n",
              "// You may obtain a copy of the License at\n",
              "//\n",
              "//      http://www.apache.org/licenses/LICENSE-2.0\n",
              "//\n",
              "// Unless required by applicable law or agreed to in writing, software\n",
              "// distributed under the License is distributed on an \"AS IS\" BASIS,\n",
              "// WITHOUT WARRANTIES OR CONDITIONS OF ANY KIND, either express or implied.\n",
              "// See the License for the specific language governing permissions and\n",
              "// limitations under the License.\n",
              "\n",
              "/**\n",
              " * @fileoverview Helpers for google.colab Python module.\n",
              " */\n",
              "(function(scope) {\n",
              "function span(text, styleAttributes = {}) {\n",
              "  const element = document.createElement('span');\n",
              "  element.textContent = text;\n",
              "  for (const key of Object.keys(styleAttributes)) {\n",
              "    element.style[key] = styleAttributes[key];\n",
              "  }\n",
              "  return element;\n",
              "}\n",
              "\n",
              "// Max number of bytes which will be uploaded at a time.\n",
              "const MAX_PAYLOAD_SIZE = 100 * 1024;\n",
              "\n",
              "function _uploadFiles(inputId, outputId) {\n",
              "  const steps = uploadFilesStep(inputId, outputId);\n",
              "  const outputElement = document.getElementById(outputId);\n",
              "  // Cache steps on the outputElement to make it available for the next call\n",
              "  // to uploadFilesContinue from Python.\n",
              "  outputElement.steps = steps;\n",
              "\n",
              "  return _uploadFilesContinue(outputId);\n",
              "}\n",
              "\n",
              "// This is roughly an async generator (not supported in the browser yet),\n",
              "// where there are multiple asynchronous steps and the Python side is going\n",
              "// to poll for completion of each step.\n",
              "// This uses a Promise to block the python side on completion of each step,\n",
              "// then passes the result of the previous step as the input to the next step.\n",
              "function _uploadFilesContinue(outputId) {\n",
              "  const outputElement = document.getElementById(outputId);\n",
              "  const steps = outputElement.steps;\n",
              "\n",
              "  const next = steps.next(outputElement.lastPromiseValue);\n",
              "  return Promise.resolve(next.value.promise).then((value) => {\n",
              "    // Cache the last promise value to make it available to the next\n",
              "    // step of the generator.\n",
              "    outputElement.lastPromiseValue = value;\n",
              "    return next.value.response;\n",
              "  });\n",
              "}\n",
              "\n",
              "/**\n",
              " * Generator function which is called between each async step of the upload\n",
              " * process.\n",
              " * @param {string} inputId Element ID of the input file picker element.\n",
              " * @param {string} outputId Element ID of the output display.\n",
              " * @return {!Iterable<!Object>} Iterable of next steps.\n",
              " */\n",
              "function* uploadFilesStep(inputId, outputId) {\n",
              "  const inputElement = document.getElementById(inputId);\n",
              "  inputElement.disabled = false;\n",
              "\n",
              "  const outputElement = document.getElementById(outputId);\n",
              "  outputElement.innerHTML = '';\n",
              "\n",
              "  const pickedPromise = new Promise((resolve) => {\n",
              "    inputElement.addEventListener('change', (e) => {\n",
              "      resolve(e.target.files);\n",
              "    });\n",
              "  });\n",
              "\n",
              "  const cancel = document.createElement('button');\n",
              "  inputElement.parentElement.appendChild(cancel);\n",
              "  cancel.textContent = 'Cancel upload';\n",
              "  const cancelPromise = new Promise((resolve) => {\n",
              "    cancel.onclick = () => {\n",
              "      resolve(null);\n",
              "    };\n",
              "  });\n",
              "\n",
              "  // Wait for the user to pick the files.\n",
              "  const files = yield {\n",
              "    promise: Promise.race([pickedPromise, cancelPromise]),\n",
              "    response: {\n",
              "      action: 'starting',\n",
              "    }\n",
              "  };\n",
              "\n",
              "  cancel.remove();\n",
              "\n",
              "  // Disable the input element since further picks are not allowed.\n",
              "  inputElement.disabled = true;\n",
              "\n",
              "  if (!files) {\n",
              "    return {\n",
              "      response: {\n",
              "        action: 'complete',\n",
              "      }\n",
              "    };\n",
              "  }\n",
              "\n",
              "  for (const file of files) {\n",
              "    const li = document.createElement('li');\n",
              "    li.append(span(file.name, {fontWeight: 'bold'}));\n",
              "    li.append(span(\n",
              "        `(${file.type || 'n/a'}) - ${file.size} bytes, ` +\n",
              "        `last modified: ${\n",
              "            file.lastModifiedDate ? file.lastModifiedDate.toLocaleDateString() :\n",
              "                                    'n/a'} - `));\n",
              "    const percent = span('0% done');\n",
              "    li.appendChild(percent);\n",
              "\n",
              "    outputElement.appendChild(li);\n",
              "\n",
              "    const fileDataPromise = new Promise((resolve) => {\n",
              "      const reader = new FileReader();\n",
              "      reader.onload = (e) => {\n",
              "        resolve(e.target.result);\n",
              "      };\n",
              "      reader.readAsArrayBuffer(file);\n",
              "    });\n",
              "    // Wait for the data to be ready.\n",
              "    let fileData = yield {\n",
              "      promise: fileDataPromise,\n",
              "      response: {\n",
              "        action: 'continue',\n",
              "      }\n",
              "    };\n",
              "\n",
              "    // Use a chunked sending to avoid message size limits. See b/62115660.\n",
              "    let position = 0;\n",
              "    do {\n",
              "      const length = Math.min(fileData.byteLength - position, MAX_PAYLOAD_SIZE);\n",
              "      const chunk = new Uint8Array(fileData, position, length);\n",
              "      position += length;\n",
              "\n",
              "      const base64 = btoa(String.fromCharCode.apply(null, chunk));\n",
              "      yield {\n",
              "        response: {\n",
              "          action: 'append',\n",
              "          file: file.name,\n",
              "          data: base64,\n",
              "        },\n",
              "      };\n",
              "\n",
              "      let percentDone = fileData.byteLength === 0 ?\n",
              "          100 :\n",
              "          Math.round((position / fileData.byteLength) * 100);\n",
              "      percent.textContent = `${percentDone}% done`;\n",
              "\n",
              "    } while (position < fileData.byteLength);\n",
              "  }\n",
              "\n",
              "  // All done.\n",
              "  yield {\n",
              "    response: {\n",
              "      action: 'complete',\n",
              "    }\n",
              "  };\n",
              "}\n",
              "\n",
              "scope.google = scope.google || {};\n",
              "scope.google.colab = scope.google.colab || {};\n",
              "scope.google.colab._files = {\n",
              "  _uploadFiles,\n",
              "  _uploadFilesContinue,\n",
              "};\n",
              "})(self);\n",
              "</script> "
            ]
          },
          "metadata": {}
        },
        {
          "output_type": "stream",
          "name": "stdout",
          "text": [
            "Saving 1342-0.txt to 1342-0.txt\n"
          ]
        }
      ],
      "source": [
        "from google.colab import files\n",
        "\n",
        "uploaded = files.upload()\n"
      ]
    },
    {
      "cell_type": "code",
      "execution_count": 5,
      "metadata": {
        "colab": {
          "base_uri": "https://localhost:8080/"
        },
        "id": "RzCVfpOo2Xq0",
        "outputId": "594cc91f-85db-453a-93d3-bce2bce88c20"
      },
      "outputs": [
        {
          "output_type": "execute_result",
          "data": {
            "text/plain": [
              "DataFrame[value: string]"
            ]
          },
          "metadata": {},
          "execution_count": 5
        }
      ],
      "source": [
        "# Ingesting data\n",
        "book = spark.read.text(\"/content/1342-0.txt\")\n",
        "book"
      ]
    },
    {
      "cell_type": "code",
      "execution_count": 6,
      "metadata": {
        "colab": {
          "base_uri": "https://localhost:8080/"
        },
        "id": "wwMhS5P48Adg",
        "outputId": "203e87e9-7f0f-43f1-aa14-d19314aa9d75"
      },
      "outputs": [
        {
          "output_type": "stream",
          "name": "stdout",
          "text": [
            "root\n",
            " |-- value: string (nullable = true)\n",
            "\n",
            "[('value', 'string')]\n"
          ]
        }
      ],
      "source": [
        "# Printing the Schema of the DataFrame\n",
        "book.printSchema()\n",
        "# Displaying list of tuple of format (column_name, column_type)\n",
        "print(book.dtypes)"
      ]
    },
    {
      "cell_type": "code",
      "execution_count": 7,
      "metadata": {
        "colab": {
          "base_uri": "https://localhost:8080/"
        },
        "id": "yYKpUr1U9pfF",
        "outputId": "29a1e767-1d9b-4833-cab1-92fbd3063a4a"
      },
      "outputs": [
        {
          "output_type": "stream",
          "name": "stdout",
          "text": [
            "+--------------------+\n",
            "|               value|\n",
            "+--------------------+\n",
            "|The Project Guten...|\n",
            "|                    |\n",
            "|This eBook is for...|\n",
            "|almost no restric...|\n",
            "|re-use it under t...|\n",
            "|with this eBook o...|\n",
            "|                    |\n",
            "|                    |\n",
            "|Title: Pride and ...|\n",
            "|                    |\n",
            "| Author: Jane Austen|\n",
            "|                    |\n",
            "|Posting Date: Aug...|\n",
            "|Release Date: Jun...|\n",
            "|Last Updated: Mar...|\n",
            "|                    |\n",
            "|   Language: English|\n",
            "|                    |\n",
            "|Character set enc...|\n",
            "|                    |\n",
            "+--------------------+\n",
            "only showing top 20 rows\n",
            "\n"
          ]
        }
      ],
      "source": [
        "# Exploring DataFrame structure using the show() method.\n",
        "book.show() # By default will display the first 20 rows and truncate long values"
      ]
    },
    {
      "cell_type": "code",
      "execution_count": 8,
      "metadata": {
        "colab": {
          "base_uri": "https://localhost:8080/"
        },
        "id": "SWvN8l2C92SH",
        "outputId": "baec037d-2493-4ab9-e634-166163f1a197"
      },
      "outputs": [
        {
          "output_type": "stream",
          "name": "stdout",
          "text": [
            "+----------------------------------------+\n",
            "|                                   value|\n",
            "+----------------------------------------+\n",
            "|The Project Gutenberg EBook of Pride ...|\n",
            "|                                        |\n",
            "|This eBook is for the use of anyone a...|\n",
            "|almost no restrictions whatsoever.  Y...|\n",
            "|re-use it under the terms of the Proj...|\n",
            "|with this eBook or online at www.gute...|\n",
            "|                                        |\n",
            "|                                        |\n",
            "|              Title: Pride and Prejudice|\n",
            "|                                        |\n",
            "|                     Author: Jane Austen|\n",
            "|                                        |\n",
            "|Posting Date: August 26, 2008 [EBook ...|\n",
            "|                Release Date: June, 1998|\n",
            "|            Last Updated: March 10, 2018|\n",
            "|                                        |\n",
            "|                       Language: English|\n",
            "|                                        |\n",
            "|           Character set encoding: UTF-8|\n",
            "|                                        |\n",
            "|*** START OF THIS PROJECT GUTENBERG E...|\n",
            "|                                        |\n",
            "|                                        |\n",
            "|                                        |\n",
            "|                                        |\n",
            "|        Produced by Anonymous Volunteers|\n",
            "|                                        |\n",
            "|                                        |\n",
            "|                                        |\n",
            "|                                        |\n",
            "+----------------------------------------+\n",
            "only showing top 30 rows\n",
            "\n"
          ]
        }
      ],
      "source": [
        "# The show() method take three optinal parameters\n",
        "book.show(30, truncate=40)"
      ]
    },
    {
      "cell_type": "code",
      "source": [
        "# Transformation of the book DataFrame\n",
        "# Splitting each sentence of the DataFrame to a list of word\n",
        "from pyspark.sql.functions import split\n",
        "lines = book.select(split(book.value, \" \").alias(\"line\"))\n",
        "lines.show(5)"
      ],
      "metadata": {
        "colab": {
          "base_uri": "https://localhost:8080/"
        },
        "id": "uySO1s-CDDYS",
        "outputId": "80ed1627-16a2-4617-f011-53c0ab92ba97"
      },
      "execution_count": 10,
      "outputs": [
        {
          "output_type": "stream",
          "name": "stdout",
          "text": [
            "+--------------------+\n",
            "|                line|\n",
            "+--------------------+\n",
            "|[The, Project, Gu...|\n",
            "|                  []|\n",
            "|[This, eBook, is,...|\n",
            "|[almost, no, rest...|\n",
            "|[re-use, it, unde...|\n",
            "+--------------------+\n",
            "only showing top 5 rows\n",
            "\n"
          ]
        }
      ]
    },
    {
      "cell_type": "code",
      "source": [
        "# Checking the schema Lines, this will help us understand what has been done in the background\n",
        "lines.printSchema()"
      ],
      "metadata": {
        "colab": {
          "base_uri": "https://localhost:8080/"
        },
        "id": "03vL065YNVjf",
        "outputId": "2da4bb08-6d19-454c-cb07-fa0c0f2bafff"
      },
      "execution_count": 11,
      "outputs": [
        {
          "output_type": "stream",
          "name": "stdout",
          "text": [
            "root\n",
            " |-- line: array (nullable = true)\n",
            " |    |-- element: string (containsNull = false)\n",
            "\n"
          ]
        }
      ]
    },
    {
      "cell_type": "code",
      "source": [
        "# This is the continuation of the transformation of our DataFrame\n",
        "# In this section we will be exploding the previous created DataFrame \"lines\"\n",
        "from pyspark.sql.functions import explode, col\n",
        "words = lines.select(explode(col(\"line\")).alias(\"word\"))\n",
        "\n",
        "words.show(15)"
      ],
      "metadata": {
        "colab": {
          "base_uri": "https://localhost:8080/"
        },
        "id": "FmXtDyEdb8Ix",
        "outputId": "b9408fcd-0598-4429-f9b9-eebcbd0aa038"
      },
      "execution_count": 14,
      "outputs": [
        {
          "output_type": "stream",
          "name": "stdout",
          "text": [
            "+----------+\n",
            "|      word|\n",
            "+----------+\n",
            "|       The|\n",
            "|   Project|\n",
            "| Gutenberg|\n",
            "|     EBook|\n",
            "|        of|\n",
            "|     Pride|\n",
            "|       and|\n",
            "|Prejudice,|\n",
            "|        by|\n",
            "|      Jane|\n",
            "|    Austen|\n",
            "|          |\n",
            "|      This|\n",
            "|     eBook|\n",
            "|        is|\n",
            "+----------+\n",
            "only showing top 15 rows\n",
            "\n"
          ]
        }
      ]
    },
    {
      "cell_type": "code",
      "source": [
        "# In the above display we can see that \"Prejudice\" has a comma athe end, also there is a space between \"Auten\" and \"This\"\n",
        "# How focus in this section will be to clean the above DataFrame and ensure we have a clean data.\n",
        "# We will first change the entire DataFrame to lower case\n",
        "from pyspark.sql.functions import col, lower\n",
        "words_lower = words.select(lower(col(\"word\")).alias(\"word_lower\"))\n",
        "\n",
        "words_lower.show()"
      ],
      "metadata": {
        "colab": {
          "base_uri": "https://localhost:8080/"
        },
        "id": "vONqcwwBe0Ga",
        "outputId": "21d32448-931b-4679-94ee-06a10fb7468e"
      },
      "execution_count": 18,
      "outputs": [
        {
          "output_type": "stream",
          "name": "stdout",
          "text": [
            "+----------+\n",
            "|word_lower|\n",
            "+----------+\n",
            "|       the|\n",
            "|   project|\n",
            "| gutenberg|\n",
            "|     ebook|\n",
            "|        of|\n",
            "|     pride|\n",
            "|       and|\n",
            "|prejudice,|\n",
            "|        by|\n",
            "|      jane|\n",
            "|    austen|\n",
            "|          |\n",
            "|      this|\n",
            "|     ebook|\n",
            "|        is|\n",
            "|       for|\n",
            "|       the|\n",
            "|       use|\n",
            "|        of|\n",
            "|    anyone|\n",
            "+----------+\n",
            "only showing top 20 rows\n",
            "\n"
          ]
        }
      ]
    },
    {
      "cell_type": "code",
      "source": [
        "# Using regex_extract to remove any form of punctuation\n",
        "from pyspark.sql.functions import regexp_extract\n",
        "\n",
        "words_clean = words_lower.select(regexp_extract(col(\"word_lower\"), \"[a-z]+\", 0).alias(\"word\"))\n",
        "\n",
        "words_clean.show()"
      ],
      "metadata": {
        "colab": {
          "base_uri": "https://localhost:8080/"
        },
        "id": "iDOkjXIvl9aO",
        "outputId": "dc64990c-a972-4af0-ab93-1a26161478e4"
      },
      "execution_count": 20,
      "outputs": [
        {
          "output_type": "stream",
          "name": "stdout",
          "text": [
            "+---------+\n",
            "|     word|\n",
            "+---------+\n",
            "|      the|\n",
            "|  project|\n",
            "|gutenberg|\n",
            "|    ebook|\n",
            "|       of|\n",
            "|    pride|\n",
            "|      and|\n",
            "|prejudice|\n",
            "|       by|\n",
            "|     jane|\n",
            "|   austen|\n",
            "|         |\n",
            "|     this|\n",
            "|    ebook|\n",
            "|       is|\n",
            "|      for|\n",
            "|      the|\n",
            "|      use|\n",
            "|       of|\n",
            "|   anyone|\n",
            "+---------+\n",
            "only showing top 20 rows\n",
            "\n"
          ]
        }
      ]
    },
    {
      "cell_type": "code",
      "source": [
        "# Now that we have change all records in lower case and remove punctuations.\n",
        "# We will remove all spaces using the filter() method provided by PySpark\n",
        "words_nonnull = words_clean.filter(col(\"word\") != \"\")\n",
        "\n",
        "words_nonnull.show()"
      ],
      "metadata": {
        "colab": {
          "base_uri": "https://localhost:8080/"
        },
        "id": "Y_Z9FHVTut9i",
        "outputId": "09a64475-b66a-4c8e-e7fa-02d51ccb06f4"
      },
      "execution_count": 21,
      "outputs": [
        {
          "output_type": "stream",
          "name": "stdout",
          "text": [
            "+---------+\n",
            "|     word|\n",
            "+---------+\n",
            "|      the|\n",
            "|  project|\n",
            "|gutenberg|\n",
            "|    ebook|\n",
            "|       of|\n",
            "|    pride|\n",
            "|      and|\n",
            "|prejudice|\n",
            "|       by|\n",
            "|     jane|\n",
            "|   austen|\n",
            "|     this|\n",
            "|    ebook|\n",
            "|       is|\n",
            "|      for|\n",
            "|      the|\n",
            "|      use|\n",
            "|       of|\n",
            "|   anyone|\n",
            "| anywhere|\n",
            "+---------+\n",
            "only showing top 20 rows\n",
            "\n"
          ]
        }
      ]
    }
  ],
  "metadata": {
    "colab": {
      "provenance": [],
      "authorship_tag": "ABX9TyOuEoRzvz8OhNOHuQS+MKaN",
      "include_colab_link": true
    },
    "kernelspec": {
      "display_name": "Python 3",
      "name": "python3"
    },
    "language_info": {
      "name": "python"
    }
  },
  "nbformat": 4,
  "nbformat_minor": 0
}